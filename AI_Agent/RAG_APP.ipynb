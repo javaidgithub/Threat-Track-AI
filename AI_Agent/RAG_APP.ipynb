{
 "cells": [
  {
   "cell_type": "code",
   "execution_count": null,
   "id": "b1a74961",
   "metadata": {},
   "outputs": [],
   "source": [
    "import os\n",
    "from dotenv import load_dotenv\n",
    "from langchain_openai import ChatOpenAI\n",
    "from langchain_community.embeddings import HuggingFaceEmbeddings\n",
    "from langchain_core.vectorstores import InMemoryVectorStore\n",
    "from langchain_community.document_loaders import PyPDFLoader\n",
    "from langchain_text_splitters import RecursiveCharacterTextSplitter\n",
    "from typing_extensions import List, TypedDict\n",
    "from langchain_core.documents import Document\n",
    "from langchain import hub\n",
    "from langgraph.graph import START, StateGraph, MessagesState\n",
    "\n",
    "\n",
    "\n",
    "load_dotenv()\n",
    "\n",
    "openrouter_key = os.getenv(\"OPENROUTER_API_KEY\")\n",
    "openrouter_base_url = os.getenv(\"OPENAI_BASE_URL\")"
   ]
  },
  {
   "cell_type": "code",
   "execution_count": null,
   "id": "fcfc6753",
   "metadata": {},
   "outputs": [],
   "source": [
    "print(openrouter_key)"
   ]
  },
  {
   "cell_type": "code",
   "execution_count": null,
   "id": "86acf4a8",
   "metadata": {},
   "outputs": [],
   "source": [
    "llm = ChatOpenAI(\n",
    "    model_name=\"deepseek/deepseek-chat-v3.1:free\",\n",
    "    api_key=openrouter_key,\n",
    "    base_url=openrouter_base_url\n",
    ")\n",
    "\n",
    "\n",
    "emb = HuggingFaceEmbeddings(\n",
    "    model_name=\"BAAI/bge-small-en-v1.5\",\n",
    "    encode_kwargs={\"normalize_embeddings\": True}  # normalize for cosine similarity\n",
    ")\n",
    "\n",
    "\n",
    "vector_store = InMemoryVectorStore(emb)"
   ]
  },
  {
   "cell_type": "code",
   "execution_count": null,
   "id": "842b92df",
   "metadata": {},
   "outputs": [],
   "source": [
    "print(llm.invoke(\"Hello, LangGraph + OpenRouter!\").content)"
   ]
  },
  {
   "cell_type": "code",
   "execution_count": null,
   "id": "b6b390f9",
   "metadata": {},
   "outputs": [],
   "source": [
    "pdf_path = r\"C:\\Users\\user\\Desktop\\Khawaja-Bilal-Ahmad.pdf\"\n",
    "loader = PyPDFLoader(pdf_path)\n",
    "docs = loader.load()\n",
    "print(f\"Loaded {len(docs)} pages\")\n",
    "print(docs[0].page_content[:300])\n",
    "\n",
    "text_splitter = RecursiveCharacterTextSplitter(chunk_size=1000, chunk_overlap=200)\n",
    "all_splits = text_splitter.split_documents(docs)\n",
    "\n",
    "_ = vector_store.add_documents(documents=all_splits)"
   ]
  },
  {
   "cell_type": "code",
   "execution_count": 9,
   "id": "a2f4db08",
   "metadata": {},
   "outputs": [],
   "source": [
    "prompt = hub.pull(\"rlm/rag-prompt\")\n",
    "\n",
    "class State(TypedDict):\n",
    "    question: str\n",
    "    context: List[Document]\n",
    "    answer: str\n",
    "\n",
    "\n",
    "\n",
    "def retrieve(state: State):\n",
    "    retrieved_docs = vector_store.similarity_search(state[\"question\"])\n",
    "    return{\"context\": retrieved_docs}\n",
    "\n",
    "\n",
    "def generate(state: State):\n",
    "    docs_content = \"\\n\\n\".join(doc.page_content for doc in state[\"context\"])\n",
    "    messages = prompt.invoke({\"question\": state[\"question\"], \"context\": docs_content})\n",
    "    response = llm.invoke(messages)\n",
    "    return {\"answer\": response.content}\n"
   ]
  },
  {
   "cell_type": "code",
   "execution_count": null,
   "id": "c7d9f47d",
   "metadata": {},
   "outputs": [],
   "source": [
    "graph_builder = StateGraph(State).add_sequence([retrieve, generate])\n",
    "graph_builder.add_edge(START, \"retrieve\")\n",
    "graph = graph_builder.compile()\n",
    "\n"
   ]
  },
  {
   "cell_type": "code",
   "execution_count": null,
   "id": "0d1532fa",
   "metadata": {},
   "outputs": [],
   "source": [
    "response = graph.invoke({\"question\": \"provide me his skills?\"})\n",
    "print(response[\"answer\"])"
   ]
  },
  {
   "cell_type": "code",
   "execution_count": null,
   "id": "be1d9426",
   "metadata": {},
   "outputs": [],
   "source": [
    "print(f\"Context: {response['context']}\\n\\n\")\n",
    "print(f\"Answer: {response['answer']}\")"
   ]
  }
 ],
 "metadata": {
  "kernelspec": {
   "display_name": "Graphenv",
   "language": "python",
   "name": "python3"
  },
  "language_info": {
   "codemirror_mode": {
    "name": "ipython",
    "version": 3
   },
   "file_extension": ".py",
   "mimetype": "text/x-python",
   "name": "python",
   "nbconvert_exporter": "python",
   "pygments_lexer": "ipython3",
   "version": "3.12.3"
  }
 },
 "nbformat": 4,
 "nbformat_minor": 5
}
