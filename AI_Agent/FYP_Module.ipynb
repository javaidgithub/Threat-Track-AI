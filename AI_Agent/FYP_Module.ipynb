{
 "cells": [
  {
   "cell_type": "code",
   "execution_count": 1,
   "id": "9fb78186",
   "metadata": {},
   "outputs": [],
   "source": [
    "import os\n",
    "from dotenv import load_dotenv\n",
    "from langchain_openai import ChatOpenAI\n",
    "from typing_extensions import List, TypedDict\n",
    "from langchain_core.prompts import PromptTemplate\n",
    "from langgraph.graph import START, StateGraph, END\n",
    "import smtplib\n",
    "from email.message import EmailMessage\n",
    "\n",
    "\n",
    "load_dotenv()\n",
    "\n",
    "openrouter_key = os.getenv(\"OPENROUTER_API_KEY\")\n",
    "openrouter_base_url = os.getenv(\"OPENAI_BASE_URL\")"
   ]
  },
  {
   "cell_type": "code",
   "execution_count": 2,
   "id": "a6519d90",
   "metadata": {},
   "outputs": [],
   "source": [
    "llm = ChatOpenAI(\n",
    "    model_name=\"deepseek/deepseek-chat-v3.1:free\",\n",
    "    api_key=openrouter_key,\n",
    "    base_url=openrouter_base_url\n",
    ")\n"
   ]
  },
  {
   "cell_type": "code",
   "execution_count": 3,
   "id": "c4c6346a",
   "metadata": {},
   "outputs": [],
   "source": [
    "class State(TypedDict):\n",
    "    Log_entry: str\n",
    "    answer: str\n",
    "\n"
   ]
  },
  {
   "cell_type": "code",
   "execution_count": 20,
   "id": "a6126b05",
   "metadata": {},
   "outputs": [],
   "source": [
    "def classifier(state: State):\n",
    "    \"\"\"\n",
    "    Classifies a log entry as 'critical' or 'not critical' using an LLM.\"\"\"\n",
    "\n",
    "    log_entry = state[\"Log_entry\"]\n",
    "    if not log_entry:\n",
    "        return {\"classification\": \"error\", \"answer\": \"No log entry provided.\"}\n",
    "\n",
    "    template = \"\"\"You are a log analysis expert. Your task is to classify a log entry as either 'critical' \n",
    "            or 'not critical'. Provide a brief, one-sentence reason for your classification.\\n\\n\n",
    "            Log Entry: {Log_entry}\\n\\n\n",
    "            Classification: \"\"\"\n",
    "    \n",
    "\n",
    "    formatted_prompt = template.format(Log_entry=log_entry)\n",
    "    response = llm.invoke(formatted_prompt)\n",
    "    return {\"Log_entry\": log_entry, \"answer\": response.content}\n",
    "\n",
    "\n",
    "def responder(state: State):\n",
    "    \"\"\"\n",
    "    Responds to classifier output:\n",
    "    - If critical -> append the log entry to the given file.\n",
    "    - If not critical -> end silently.\n",
    "    \"\"\"\n",
    "    \n",
    "    classification = state[\"answer\"].lower()\n",
    "    log_entry = state[\"Log_entry\"]\n",
    "\n",
    "    if not classification:\n",
    "        return {\"status\": \"error\", \"message\": \"No classification found.\"}\n",
    "\n",
    "    prompt = f\"\"\"\n",
    "            You are given the full output of a classifier. \n",
    "            Your task is to decide if the classification is 'critical' or 'not critical'.\n",
    "\n",
    "            The output may contain explanations, but only the classification matters. \n",
    "            If the classifier says \"not critical\", you must respond with exactly: not critical.\n",
    "            If the classifier says \"critical\", you must respond with exactly: critical.\n",
    "\n",
    "            Classifier Output:\n",
    "            {classification}\n",
    "\n",
    "            Answer with one word only: \"critical\" or \"not critical\".\n",
    "            \"\"\"\n",
    "\n",
    "    res = llm.invoke(prompt).content.strip().lower()\n",
    "\n",
    "    if res == \"critical\":\n",
    "        msg = EmailMessage()\n",
    "        msg.set_content(f\"\"\"\n",
    "            ALERT : CRITICAL\n",
    "                        \n",
    "            Critical Log:       \n",
    "            {log_entry}                 \n",
    "            Classification Result:\n",
    "            {classification}\n",
    "                        \"\"\")\n",
    "\n",
    "        msg['Subject'] = \"Critical Alert: LLM Classification\"\n",
    "        msg['From'] = \"41276@students.riphah.edu.pk\"\n",
    "        msg['To'] = \"40855@students.riphah.edu.pk\"\n",
    "        s = smtplib.SMTP(\"smtp.gmail.com\", 587)\n",
    "        s.starttls()\n",
    "        s.login(\"bilalahmad101325@gmail.com\", \"bdhl zzxq gjzq byda\")\n",
    "        s.send_message(msg)\n",
    "        s.quit()\n",
    "    else:\n",
    "        print(\"Non critical\")    \n",
    "    \n",
    "\n",
    "\n",
    "   "
   ]
  },
  {
   "cell_type": "code",
   "execution_count": 21,
   "id": "a463e775",
   "metadata": {},
   "outputs": [],
   "source": [
    "graph_builder = StateGraph(State)\n",
    "\n",
    "graph_builder.add_node(\"Classifier\", classifier)\n",
    "graph_builder.add_node(\"Responder\", responder)\n",
    "\n",
    "graph_builder.add_edge(START, \"Classifier\")\n",
    "graph_builder.add_edge(\"Classifier\", \"Responder\")\n",
    "graph_builder.add_edge(\"Responder\", END)\n",
    "graph = graph_builder.compile()\n",
    "\n"
   ]
  },
  {
   "cell_type": "code",
   "execution_count": 6,
   "id": "185c948a",
   "metadata": {},
   "outputs": [
    {
     "data": {
      "image/png": "[encoded data removed]",
      "text/plain": [
       "<IPython.core.display.Image object>"
      ]
     },
     "metadata": {},
     "output_type": "display_data"
    }
   ],
   "source": [
    "from IPython.display import Image, display\n",
    "\n",
    "display(Image(graph.get_graph().draw_mermaid_png()))"
   ]
  },
  {
   "cell_type": "code",
   "execution_count": 23,
   "id": "eabcb0d3",
   "metadata": {},
   "outputs": [
    {
     "name": "stdout",
     "output_type": "stream",
     "text": [
      "{'Log_entry': '<13>1 2025-09-10T15:24:03Z firewall.corp.net FW_DENY 10.10.10.1 src_port=54321 dest_ip=172.16.1.10 dest_port=22 protocol=6 reason=\"Port Scan\" rule_id=100 action=\"deny\" ', 'answer': 'critical\\n\\nThe log entry indicates a denied port scan attempt on port 22 (SSH), which is a common reconnaissance activity used by attackers to identify vulnerable services and could be a precursor to a more serious attack.'}\n"
     ]
    }
   ],
   "source": [
    "result = graph.invoke({\"Log_entry\": \"<13>1 2025-09-10T15:24:03Z firewall.corp.net FW_DENY 10.10.10.1 src_port=54321 dest_ip=172.16.1.10 dest_port=22 protocol=6 reason=\\\"Port Scan\\\" rule_id=100 action=\\\"deny\\\" \"})\n",
    "print(result)"
   ]
  },
  {
   "cell_type": "code",
   "execution_count": null,
   "id": "289a2160",
   "metadata": {},
   "outputs": [],
   "source": []
  }
 ],
 "metadata": {
  "kernelspec": {
   "display_name": "Graphenv",
   "language": "python",
   "name": "python3"
  },
  "language_info": {
   "codemirror_mode": {
    "name": "ipython",
    "version": 3
   },
   "file_extension": ".py",
   "mimetype": "text/x-python",
   "name": "python",
   "nbconvert_exporter": "python",
   "pygments_lexer": "ipython3",
   "version": "3.12.3"
  }
 },
 "nbformat": 4,
 "nbformat_minor": 5
}
