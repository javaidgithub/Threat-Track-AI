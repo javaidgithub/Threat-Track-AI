{
 "cells": [
  {
   "cell_type": "code",
   "execution_count": null,
   "id": "3145b683",
   "metadata": {},
   "outputs": [],
   "source": [
    "import os\n",
    "from dotenv import load_dotenv\n",
    "from langchain_openai import ChatOpenAI\n",
    "from typing_extensions import List, TypedDict\n",
    "from langchain_core.prompts import PromptTemplate\n",
    "from langgraph.graph import START, StateGraph, END\n",
    "import smtplib\n",
    "from email.message import EmailMessage\n",
    "\n",
    "\n",
    "load_dotenv()\n",
    "\n",
    "openrouter_key = os.getenv(\"OPENROUTER_API_KEY\")\n",
    "openrouter_base_url = os.getenv(\"OPENAI_BASE_URL\")\n",
    "\n",
    "\n",
    "llm = ChatOpenAI(\n",
    "    model_name=\"deepseek/deepseek-chat-v3.1:free\",\n",
    "    api_key=openrouter_key,\n",
    "    base_url=openrouter_base_url\n",
    ")\n",
    "\n",
    "\n",
    "class State(TypedDict):\n",
    "    Log_entry: str\n",
    "    answer: str\n",
    "\n",
    "\n",
    "def classifier(state: State):\n",
    "    \"\"\"\n",
    "    Classifies a log entry as 'critical' or 'not critical' using an LLM.\"\"\"\n",
    "\n",
    "    log_entry = state[\"Log_entry\"]\n",
    "    if not log_entry:\n",
    "        return {\"classification\": \"error\", \"answer\": \"No log entry provided.\"}\n",
    "\n",
    "    template = \"\"\"You are a log analysis expert. Your task is to classify a log entry as either 'critical' \n",
    "            or 'not critical'. Provide a brief, one-sentence reason for your classification.\\n\\n\n",
    "            Log Entry: {Log_entry}\\n\\n\n",
    "            Classification: \"\"\"\n",
    "    \n",
    "\n",
    "    formatted_prompt = template.format(Log_entry=log_entry)\n",
    "    response = llm.invoke(formatted_prompt)\n",
    "    return {\"Log_entry\": log_entry, \"answer\": response.content}"
   ]
  },
  {
   "cell_type": "code",
   "execution_count": null,
   "id": "5f8e4729",
   "metadata": {},
   "outputs": [],
   "source": []
  }
 ],
 "metadata": {
  "kernelspec": {
   "display_name": "Graphenv",
   "language": "python",
   "name": "python3"
  },
  "language_info": {
   "codemirror_mode": {
    "name": "ipython",
    "version": 3
   },
   "file_extension": ".py",
   "mimetype": "text/x-python",
   "name": "python",
   "nbconvert_exporter": "python",
   "pygments_lexer": "ipython3",
   "version": "3.12.3"
  }
 },
 "nbformat": 4,
 "nbformat_minor": 5
}
